{
  "nbformat": 4,
  "nbformat_minor": 0,
  "metadata": {
    "colab": {
      "name": "Np_SineGen.ipynb",
      "provenance": [],
      "collapsed_sections": [],
      "authorship_tag": "ABX9TyNu/nBd2kF/wvgKDe1VModo"
    },
    "kernelspec": {
      "name": "python3",
      "display_name": "Python 3"
    }
  },
  "cells": [
    {
      "cell_type": "code",
      "metadata": {
        "id": "3WpOOjwsk3DK",
        "colab_type": "code",
        "colab": {}
      },
      "source": [
        "import numpy as np\n",
        "import matplotlib.pyplot as plt"
      ],
      "execution_count": 0,
      "outputs": []
    },
    {
      "cell_type": "code",
      "metadata": {
        "id": "ETX37EEElBPg",
        "colab_type": "code",
        "colab": {}
      },
      "source": [
        "Z_DIM = 1\n",
        "G_HIDDEN = 10\n",
        "X_DIM = 10\n",
        "D_HIDDEN = 10\n",
        "\n",
        "step_size_G = 0.01\n",
        "step_size_D = 0.01\n",
        "ITER_NUM = 50000\n",
        "\n",
        "GRADIENT_CLIP = 0.2\n",
        "WEIGHT_CLIP = 0.25"
      ],
      "execution_count": 0,
      "outputs": []
    },
    {
      "cell_type": "code",
      "metadata": {
        "id": "F_mIN2pNl7g0",
        "colab_type": "code",
        "colab": {}
      },
      "source": [
        "def get_samples(random=True):\n",
        "    if random:\n",
        "        x0 = np.random.uniform(0, 1)\n",
        "        freq = np.random.uniform(1.2, 1.5)\n",
        "        mult = np.random.uniform(0.5, 0.8)\n",
        "    else:\n",
        "        x0 = 0\n",
        "        freq = 0.2\n",
        "        mult = 1\n",
        "    signal = [mult * np.sin(x0+freq*i) for i in range(X_DIM)]\n",
        "    return np.array(signal)"
      ],
      "execution_count": 0,
      "outputs": []
    },
    {
      "cell_type": "code",
      "metadata": {
        "id": "WdTSTru3mK2g",
        "colab_type": "code",
        "colab": {}
      },
      "source": [
        "def ReLU(x):\n",
        "    return np.maximum(x, 0.)\n",
        "\n",
        "def dReLU(x):\n",
        "    return ReLU(x)\n",
        "\n",
        "def LeakyReLU(x, k=0.2):\n",
        "    return np.where(x >= 0, x, x * k)\n",
        "\n",
        "def dLeakyReLU(x, k=0.2):\n",
        "    return np.where(x >= 0, 1., k)\n",
        "\n",
        "def Tanh(x):\n",
        "    return np.tanh(x)\n",
        "\n",
        "def dTanh(x):\n",
        "    return 1. - Tanh(x)**2\n",
        "\n",
        "def Sigmoid(x):\n",
        "    return 1. / (1. + np.exp(-x))\n",
        "\n",
        "def dSigmoid(x):\n",
        "    return Sigmoid(x) * (1. - Sigmoid(x))"
      ],
      "execution_count": 0,
      "outputs": []
    },
    {
      "cell_type": "code",
      "metadata": {
        "id": "4sxBSNtMmYuL",
        "colab_type": "code",
        "colab": {}
      },
      "source": [
        "def weight_initializer(in_channels, out_channels):\n",
        "    scale = np.sqrt(2. / (in_channels + out_channels))\n",
        "    return np.random.uniform(-scale, scale, (in_channels, out_channels))"
      ],
      "execution_count": 0,
      "outputs": []
    },
    {
      "cell_type": "code",
      "metadata": {
        "id": "prUpSCKhmc4X",
        "colab_type": "code",
        "colab": {}
      },
      "source": [
        "class LossFunc(object):\n",
        "    def __init__(self):\n",
        "        self.logit = None\n",
        "        self.label = None\n",
        "\n",
        "    def forward(self, logit, label):\n",
        "        if logit[0, 0] < 1e-7:\n",
        "            logit[0, 0] = 1e-7\n",
        "        if 1. - logit[0, 0] < 1e-7:\n",
        "            logit[0, 0] = 1. - 1e-7\n",
        "        self.logit = logit\n",
        "        self.label = label\n",
        "        return - (label * np.log(logit) + (1-label) * np.log(1-logit))\n",
        "\n",
        "    def backward(self):\n",
        "        return (1-self.label) / (1-self.logit) - self.label / self.logit"
      ],
      "execution_count": 0,
      "outputs": []
    },
    {
      "cell_type": "code",
      "metadata": {
        "id": "RIainUK8nGRG",
        "colab_type": "code",
        "colab": {}
      },
      "source": [
        "class Generator(object):\n",
        "    def __init__(self):\n",
        "        self.z = None\n",
        "        self.w1 = weight_initializer(Z_DIM, G_HIDDEN)\n",
        "        self.b1 = weight_initializer(1, G_HIDDEN)\n",
        "        self.x1 = None\n",
        "        self.w2 = weight_initializer(G_HIDDEN, G_HIDDEN)\n",
        "        self.b2 = weight_initializer(1, G_HIDDEN)\n",
        "        self.x2 = None\n",
        "        self.w3 = weight_initializer(G_HIDDEN, X_DIM)\n",
        "        self.b3 = weight_initializer(1, X_DIM)\n",
        "        self.x3 = None\n",
        "        self.x = None\n",
        "        \n",
        "    def forward(self, inputs):\n",
        "        self.z = inputs.reshape(1, Z_DIM)\n",
        "        self.x1 = np.matmul(self.z, self.w1) + self.b1\n",
        "        self.x1 = ReLU(self.x1)\n",
        "        self.x2 = np.matmul(self.x1, self.w2) + self.b2\n",
        "        self.x2 = ReLU(self.x2)\n",
        "        self.x3 = np.matmul(self.x2, self.w3) + self.b3\n",
        "        self.x = Tanh(self.x3)\n",
        "        return self.x"
      ],
      "execution_count": 0,
      "outputs": []
    },
    {
      "cell_type": "code",
      "metadata": {
        "id": "0xIUufswnHuJ",
        "colab_type": "code",
        "colab": {}
      },
      "source": [
        ""
      ],
      "execution_count": 0,
      "outputs": []
    }
  ]
}