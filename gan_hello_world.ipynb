{
  "nbformat": 4,
  "nbformat_minor": 0,
  "metadata": {
    "colab": {
      "name": "gan hello world.ipynb",
      "provenance": []
    },
    "kernelspec": {
      "name": "python3",
      "display_name": "Python 3"
    },
    "accelerator": "GPU"
  },
  "cells": [
    {
      "cell_type": "code",
      "metadata": {
        "id": "rolMb57DQ0Vj",
        "colab_type": "code",
        "colab": {
          "base_uri": "https://localhost:8080/",
          "height": 63
        },
        "outputId": "d7cc438a-b81c-4491-b802-efd77440ec67"
      },
      "source": [
        "import tensorflow as tf\n",
        "import numpy as np\n",
        "import matplotlib.pyplot as plt\n",
        "import matplotlib.gridspec as gridspec\n",
        "import os\n",
        "from tensorflow.examples.tutorials.mnist import input_data"
      ],
      "execution_count": 1,
      "outputs": [
        {
          "output_type": "display_data",
          "data": {
            "text/html": [
              "<p style=\"color: red;\">\n",
              "The default version of TensorFlow in Colab will soon switch to TensorFlow 2.x.<br>\n",
              "We recommend you <a href=\"https://www.tensorflow.org/guide/migrate\" target=\"_blank\">upgrade</a> now \n",
              "or ensure your notebook will continue to use TensorFlow 1.x via the <code>%tensorflow_version 1.x</code> magic:\n",
              "<a href=\"https://colab.research.google.com/notebooks/tensorflow_version.ipynb\" target=\"_blank\">more info</a>.</p>\n"
            ],
            "text/plain": [
              "<IPython.core.display.HTML object>"
            ]
          },
          "metadata": {
            "tags": []
          }
        }
      ]
    },
    {
      "cell_type": "code",
      "metadata": {
        "id": "LV6ykI9ARWwh",
        "colab_type": "code",
        "colab": {}
      },
      "source": [
        "def xavier_init(size):\n",
        "  input_dim = size[0]\n",
        "  xavier_variance = 1. / tf.sqrt(input_dim / 2.)\n",
        "  return tf.random_normal(shape=size, stddev=xavier_variance)\n",
        "\n",
        "def plot(smaples):\n",
        "  fig = plt.figure(figsize=(4,4))\n",
        "  gs = gridspec.GridSpec(4,4)\n",
        "  gs.update(wspace=0.05, hspace=0.05)\n",
        "  \n",
        "  for i, sample in enumerate(samples):\n",
        "    ax = plt.subplot(gs[i])\n",
        "    plt.axis('off')\n",
        "    ax.set_xticklabels([])\n",
        "    ax.set_yticklabels([])\n",
        "    ax.set_aspect('equal')\n",
        "    plt.imshow(sample.reshape(28,28), cmap='Greys_r')\n",
        "    \n",
        "    return fig"
      ],
      "execution_count": 0,
      "outputs": []
    },
    {
      "cell_type": "code",
      "metadata": {
        "id": "sakfr5ccU0OP",
        "colab_type": "code",
        "colab": {}
      },
      "source": [
        "Z = tf.placeholder(tf.float32, shape=[None, 100], name='Z')\n",
        "\n",
        "G_W1 = tf.Variable(xavier_init([100,128]), name='G_W1')\n",
        "G_b1 = tf.Variable(tf.zeros(shape=[128], name='G_b1'))\n",
        "G_W2 = tf.Variable(xavier_init([128,784]), name='G_W2')\n",
        "G_b2 = tf.Variable(tf.zeros(shape=[784], name='G_b2'))\n",
        "\n",
        "theta_G = [G_W1, G_W2, G_b1, G_b2]\n",
        "\n",
        "\n",
        "X = tf.placeholder(tf.float32, shape=[None, 784], name='X')\n",
        "\n",
        "D_W1 = tf.Variable(xavier_init([784,128]), name='D_W1')\n",
        "D_b1 = tf.Variable(tf.zeros(shape=[128], name='D_b1'))\n",
        "D_W2 = tf.Variable(xavier_init([128,1]), name='D_W2')\n",
        "D_b2 = tf.Variable(tf.zeros(shape=[1], name='D_b2'))\n",
        "\n",
        "theta_D = [D_W1, D_W2, D_b1, D_b2]\n"
      ],
      "execution_count": 0,
      "outputs": []
    },
    {
      "cell_type": "code",
      "metadata": {
        "id": "aCjQ6ozEYwkB",
        "colab_type": "code",
        "colab": {}
      },
      "source": [
        "def generator(z):\n",
        "  G_h1 = tf.nn.relu(tf.matmul(z, G_W1) + G_b1)\n",
        "  G_log_prob = tf.matmul(G_h1, G_W2) + G_b2\n",
        "  G_prob = tf.nn.sigmoid(G_log_prob)\n",
        "  \n",
        "  return G_prob\n",
        "\n",
        "def discrinator(z):\n",
        "  D_h1 = tf.nn.relu(tf.matmul(z, D_W1) + D_b1)\n",
        "  D_logit = tf.matmul(D_h1, D_W2) + D_b2\n",
        "  D_prob = tf.nn.sigmoid(D_logit)\n",
        "  \n",
        "  return D_prob, D_logit"
      ],
      "execution_count": 0,
      "outputs": []
    },
    {
      "cell_type": "code",
      "metadata": {
        "id": "4j7YYp6Ge3Qb",
        "colab_type": "code",
        "colab": {
          "base_uri": "https://localhost:8080/",
          "height": 419
        },
        "outputId": "83d5cdaa-fa09-4a7c-cd68-ac160b547222"
      },
      "source": [
        "G_sample = generator(Z)\n",
        "\n",
        "D_real, D_logit_real = discrinator(X)\n",
        "D_fake, D_logit_fake = discrinator(G_sample)\n",
        "\n",
        "D_loss = -tf.reduce_mean(tf.log(D_real) + tf.log(1. - D_fake))\n",
        "G_loss = -tf.reduce_mean(tf.log(D_fake))\n",
        "\n",
        "\n",
        "D_solver = tf.train.AdamOptimizer().minimize(D_loss, var_list=theta_D)\n",
        "G_solver = tf.train.AdamOptimizer().minimize(G_loss, var_list=theta_G)\n",
        "\n",
        "def sample_Z(m,n):\n",
        "  return np.random.uniform(-1., 1., size=[m,n])\n",
        "\n",
        "batch_size = 128\n",
        "Z_dim = 100\n",
        "\n",
        "sess = tf.Session()\n",
        "sess.run(tf.global_variables_initializer())\n",
        "\n",
        "mnist = input_data.read_data_sets('MNIST/', one_hot=True)\n",
        "\n",
        "if not os.path.exists('output/'):\n",
        "  os.makedirs('output/')"
      ],
      "execution_count": 5,
      "outputs": [
        {
          "output_type": "stream",
          "text": [
            "WARNING:tensorflow:From <ipython-input-5-7d1cfc915756>:22: read_data_sets (from tensorflow.contrib.learn.python.learn.datasets.mnist) is deprecated and will be removed in a future version.\n",
            "Instructions for updating:\n",
            "Please use alternatives such as official/mnist/dataset.py from tensorflow/models.\n",
            "WARNING:tensorflow:From /usr/local/lib/python3.6/dist-packages/tensorflow_core/contrib/learn/python/learn/datasets/mnist.py:260: maybe_download (from tensorflow.contrib.learn.python.learn.datasets.base) is deprecated and will be removed in a future version.\n",
            "Instructions for updating:\n",
            "Please write your own downloading logic.\n",
            "WARNING:tensorflow:From /usr/local/lib/python3.6/dist-packages/tensorflow_core/contrib/learn/python/learn/datasets/mnist.py:262: extract_images (from tensorflow.contrib.learn.python.learn.datasets.mnist) is deprecated and will be removed in a future version.\n",
            "Instructions for updating:\n",
            "Please use tf.data to implement this functionality.\n",
            "Extracting MNIST/train-images-idx3-ubyte.gz\n",
            "WARNING:tensorflow:From /usr/local/lib/python3.6/dist-packages/tensorflow_core/contrib/learn/python/learn/datasets/mnist.py:267: extract_labels (from tensorflow.contrib.learn.python.learn.datasets.mnist) is deprecated and will be removed in a future version.\n",
            "Instructions for updating:\n",
            "Please use tf.data to implement this functionality.\n",
            "Extracting MNIST/train-labels-idx1-ubyte.gz\n",
            "WARNING:tensorflow:From /usr/local/lib/python3.6/dist-packages/tensorflow_core/contrib/learn/python/learn/datasets/mnist.py:110: dense_to_one_hot (from tensorflow.contrib.learn.python.learn.datasets.mnist) is deprecated and will be removed in a future version.\n",
            "Instructions for updating:\n",
            "Please use tf.one_hot on tensors.\n",
            "Extracting MNIST/t10k-images-idx3-ubyte.gz\n",
            "Extracting MNIST/t10k-labels-idx1-ubyte.gz\n",
            "WARNING:tensorflow:From /usr/local/lib/python3.6/dist-packages/tensorflow_core/contrib/learn/python/learn/datasets/mnist.py:290: DataSet.__init__ (from tensorflow.contrib.learn.python.learn.datasets.mnist) is deprecated and will be removed in a future version.\n",
            "Instructions for updating:\n",
            "Please use alternatives such as official/mnist/dataset.py from tensorflow/models.\n"
          ],
          "name": "stdout"
        }
      ]
    },
    {
      "cell_type": "code",
      "metadata": {
        "id": "Cby9rozjnNuD",
        "colab_type": "code",
        "colab": {
          "base_uri": "https://localhost:8080/",
          "height": 156
        },
        "outputId": "3b4a7a6f-ae9b-444b-b0fe-9fa373bcca3d"
      },
      "source": [
        "i = 0\n",
        "\n",
        "for itr in range(2000):\n",
        "  \n",
        "  if itr%1000:\n",
        "    samples = sess.run(G_sample, feed_dict={Z: sample_Z(16, Z_dim)})\n",
        "    \n",
        "    fig = plot(samples)\n",
        "    plt.savefig('output/{}.png'.format(str(i).zfill(3)), bbox_inches='tight')\n",
        "    i += 1\n",
        "    plt.close(fig)\n",
        "    \n",
        "  X_mb, _ = mnist.train.next_batch(batch_size)\n",
        "  \n",
        "  _, D_curr_loss = sess.run([D_solver, D_loss], feed_dict={X: X_mb, Z: sample_Z(batch_size, Z_dim)})\n",
        "  _, G_curr_loss = sess.run([G_solver, G_loss], feed_dict={Z: sample_Z(batch_size, Z_dim)})\n",
        "  \n",
        "  if itr%1000 == 0:\n",
        "    print('Itr '+ str(itr))\n",
        "    print('D_loss {:.4}'. format(D_curr_loss))\n",
        "    print('G_loss {:.4}'. format(G_curr_loss))\n",
        "    print()"
      ],
      "execution_count": 6,
      "outputs": [
        {
          "output_type": "stream",
          "text": [
            "Itr 0\n",
            "D_loss 1.214\n",
            "G_loss 2.626\n",
            "\n",
            "Itr 1000\n",
            "D_loss 0.0001827\n",
            "G_loss inf\n",
            "\n"
          ],
          "name": "stdout"
        }
      ]
    },
    {
      "cell_type": "code",
      "metadata": {
        "id": "YwCyagi6qrk4",
        "colab_type": "code",
        "colab": {}
      },
      "source": [
        ""
      ],
      "execution_count": 0,
      "outputs": []
    }
  ]
}