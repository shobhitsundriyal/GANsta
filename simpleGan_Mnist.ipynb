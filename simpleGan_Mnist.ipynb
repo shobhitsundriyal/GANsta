{
  "nbformat": 4,
  "nbformat_minor": 0,
  "metadata": {
    "colab": {
      "name": "simpleGan Mnist.ipynb",
      "provenance": [],
      "authorship_tag": "ABX9TyNSaA0XInPr48i931uFBXAX"
    },
    "kernelspec": {
      "name": "python3",
      "display_name": "Python 3"
    }
  },
  "cells": [
    {
      "cell_type": "code",
      "metadata": {
        "id": "nZuEzHQGIZqI",
        "colab_type": "code",
        "colab": {}
      },
      "source": [
        "import numpy as np\n",
        "import matplotlib.pyplot as plt\n",
        "from keras.datasets import mnist\n",
        "from keras.layers import Dense, Flatten, Reshape\n",
        "from keras.layers.advanced_activations import LeakyReLU\n",
        "from keras.models import Sequential\n",
        "from keras.optimizers import Adam"
      ],
      "execution_count": 0,
      "outputs": []
    },
    {
      "cell_type": "code",
      "metadata": {
        "id": "8uz14SeQJAjt",
        "colab_type": "code",
        "colab": {}
      },
      "source": [
        "#image specs\n",
        "img_rows = 28\n",
        "img_cols = 28\n",
        "channels = 1\n",
        "img_shape = (img_rows, img_cols, channels)"
      ],
      "execution_count": 0,
      "outputs": []
    },
    {
      "cell_type": "code",
      "metadata": {
        "id": "PZfE8zWwJYcQ",
        "colab_type": "code",
        "colab": {}
      },
      "source": [
        "# Size of noise vector used as input to Generator\n",
        "z_dim = 100"
      ],
      "execution_count": 0,
      "outputs": []
    },
    {
      "cell_type": "markdown",
      "metadata": {
        "id": "TkWVrz8_J16X",
        "colab_type": "text"
      },
      "source": [
        "#### Generator"
      ]
    },
    {
      "cell_type": "code",
      "metadata": {
        "id": "DbOlfAoyJz_N",
        "colab_type": "code",
        "colab": {}
      },
      "source": [
        "def build_generator(img_shape, z_dim):\n",
        "  model = Sequential()\n",
        "  model.add(Dense(128, input_dim=z_dim))        #FC layer\n",
        "  model.add(LeakyReLU(alpha=0.01))              #LeakyRelu activation\n",
        "  model.add(Dense(28*28*1, activation='tanh'))  #op layr with tanh activation\n",
        "  model.add(Reshape(img_shape))                 #Reshape generator op\n",
        "  return model"
      ],
      "execution_count": 0,
      "outputs": []
    },
    {
      "cell_type": "markdown",
      "metadata": {
        "id": "0_4FfL61Ljl5",
        "colab_type": "text"
      },
      "source": [
        "#### Discriminator"
      ]
    },
    {
      "cell_type": "code",
      "metadata": {
        "id": "7vjGp1jiLK8A",
        "colab_type": "code",
        "colab": {}
      },
      "source": [
        "def build_discriminator(img_shape):\n",
        "  model = Sequential()\n",
        "  model.add(Flatten(input_shape=img_shape))   #Flatten ip\n",
        "  model.add(Dense(128))                       #FC layer\n",
        "  model.add(LeakyReLU(alpha=0.01))            #LeakyRelu activation\n",
        "  model.add(Dense(1, activation='sigmoid'))   #op layer for classification\n",
        "  return model"
      ],
      "execution_count": 0,
      "outputs": []
    },
    {
      "cell_type": "markdown",
      "metadata": {
        "id": "CbFnmTH9NFHf",
        "colab_type": "text"
      },
      "source": [
        "#### Connect gen and dis"
      ]
    },
    {
      "cell_type": "code",
      "metadata": {
        "id": "-oN33PxAM_gJ",
        "colab_type": "code",
        "colab": {}
      },
      "source": [
        "def build_gan(generator, discriminator):\n",
        "  model = Sequential()\n",
        "  model.add(generator)\n",
        "  model.add(discriminator)\n",
        "  return model"
      ],
      "execution_count": 0,
      "outputs": []
    },
    {
      "cell_type": "code",
      "metadata": {
        "id": "CyYloV8IN4j4",
        "colab_type": "code",
        "colab": {}
      },
      "source": [
        ""
      ],
      "execution_count": 0,
      "outputs": []
    }
  ]
}